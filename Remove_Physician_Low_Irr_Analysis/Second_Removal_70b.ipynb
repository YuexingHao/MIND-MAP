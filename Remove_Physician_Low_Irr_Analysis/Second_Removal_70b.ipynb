{
 "cells": [
  {
   "cell_type": "code",
   "execution_count": 2,
   "id": "006d2559-46c2-4980-b256-45af93cb77b4",
   "metadata": {},
   "outputs": [
    {
     "name": "stdout",
     "output_type": "stream",
     "text": [
      "Overall accuracy       : 45.54%\n",
      "Overall std deviation  : 49.82%\n",
      "\n",
      "Accuracy and std by data_source_corr:\n",
      "  data_source_corr accuracy     std\n",
      "0             jama   52.23%  49.99%\n",
      "1       medbullets   48.79%  50.11%\n",
      "2         medxpert   21.38%  41.07%\n",
      "3             mmlu   61.66%  48.75%\n"
     ]
    }
   ],
   "source": [
    "import pandas as pd\n",
    "\n",
    "# 1. Load both CSVs\n",
    "llama_df   = pd.read_csv(\"llama70b_answers_second_round_with_origin.csv\")\n",
    "centaur_df = pd.read_csv(\"Centaur_Lab_Second_Round.csv\")\n",
    "\n",
    "# 2. Merge on Origin and bring in answer_corr and data_source_corr\n",
    "comparison = (\n",
    "    llama_df\n",
    "    .merge(\n",
    "        centaur_df[['Origin', 'answer_corr', 'data_source_corr']],\n",
    "        on='Origin',\n",
    "        how='inner'\n",
    "    )\n",
    ")\n",
    "\n",
    "# 3. Compute match flag\n",
    "comparison['is_match'] = (\n",
    "    comparison['Extracted_Answer'].astype(str).str.strip()\n",
    "    == comparison['answer_corr'].astype(str).str.strip()\n",
    ")\n",
    "\n",
    "# 4. Overall accuracy and std\n",
    "overall_acc = comparison['is_match'].mean()\n",
    "overall_std = comparison['is_match'].std()\n",
    "print(f\"Overall accuracy       : {overall_acc:.2%}\")\n",
    "print(f\"Overall std deviation  : {overall_std:.2%}\")\n",
    "\n",
    "# 5. Accuracy and std by data_source_corr\n",
    "by_source = (\n",
    "    comparison\n",
    "    .groupby('data_source_corr')['is_match']\n",
    "    .agg(accuracy='mean', std='std')\n",
    "    .reset_index()\n",
    ")\n",
    "\n",
    "# format as percentages if you like\n",
    "by_source['accuracy'] = by_source['accuracy'].map(\"{:.2%}\".format)\n",
    "by_source['std']      = by_source['std'].map(\"{:.2%}\".format)\n",
    "\n",
    "print(\"\\nAccuracy and std by data_source_corr:\")\n",
    "print(by_source)\n"
   ]
  },
  {
   "cell_type": "code",
   "execution_count": null,
   "id": "802b289e-0677-4635-a0f5-cdc8b84050d6",
   "metadata": {},
   "outputs": [],
   "source": []
  }
 ],
 "metadata": {
  "kernelspec": {
   "display_name": "Python (hf_env310)",
   "language": "python",
   "name": "hf_env310"
  },
  "language_info": {
   "codemirror_mode": {
    "name": "ipython",
    "version": 3
   },
   "file_extension": ".py",
   "mimetype": "text/x-python",
   "name": "python",
   "nbconvert_exporter": "python",
   "pygments_lexer": "ipython3",
   "version": "3.9.7"
  }
 },
 "nbformat": 4,
 "nbformat_minor": 5
}
