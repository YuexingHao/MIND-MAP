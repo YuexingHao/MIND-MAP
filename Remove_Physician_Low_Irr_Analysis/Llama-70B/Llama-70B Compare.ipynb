{
 "cells": [
  {
   "cell_type": "code",
   "execution_count": 1,
   "id": "8f617c01-bea6-4076-85c6-ade09cc9dedb",
   "metadata": {},
   "outputs": [
    {
     "name": "stdout",
     "output_type": "stream",
     "text": [
      "Index(['QA_ID', 'Extracted_Answer', 'Raw_Response'], dtype='object')\n",
      "Index(['QA_ID', 'Extracted_Answer', 'Raw_Response', 'Origin'], dtype='object')\n",
      "4054\n",
      "1300\n"
     ]
    }
   ],
   "source": [
    "import pandas as pd\n",
    "\n",
    "# Load the CSV file\n",
    "df = pd.read_csv(\"Llama_72b_FIRST_ROUND.csv\")\n",
    "df2 = pd.read_csv(\"Llama_72b_SECOND_ROUND.csv\")\n",
    "\n",
    "# Display the first few rows after removing duplicates\n",
    "print(df.columns)\n",
    "print(df2.columns)\n",
    "# print(df.head())\n",
    "print(len(df))\n",
    "print(len(df2))"
   ]
  },
  {
   "cell_type": "code",
   "execution_count": 2,
   "id": "9823673e-3e09-4228-85db-3419f1e8764a",
   "metadata": {},
   "outputs": [
    {
     "name": "stdout",
     "output_type": "stream",
     "text": [
      "df QA_ID dtype: object\n",
      "df2 QA_ID dtype: object\n",
      "First 10 in df : ['Merge Q1', 'Merge Q2', 'Merge Q3', 'Merge Q4', 'Merge Q5', 'Merge Q6', 'Merge Q7', 'Merge Q8', 'Merge Q9', 'Merge Q10']\n",
      "First 10 in df2: ['Merge Q1', 'Merge Q2', 'Merge Q3', 'Merge Q4', 'Merge Q5', 'Merge Q6', 'Merge Q7', 'Merge Q8', 'Merge Q9', 'Merge Q10']\n",
      "_merge\n",
      "left_only     2754\n",
      "both          1300\n",
      "right_only       0\n",
      "Name: count, dtype: int64\n",
      "Merged shape: (1300, 6)\n",
      "      QA_ID Extracted_Answer_x              Raw_Response_x Extracted_Answer_y  \\\n",
      "0  Merge Q1                  D   <answer>Option D</answer>                  D   \n",
      "1  Merge Q2                  C   <answer>Option C</answer>                  G   \n",
      "2  Merge Q3                  D   <answer>Option D</answer>                  A   \n",
      "3  Merge Q4                  D   <answer>Option D</answer>                  D   \n",
      "4  Merge Q5                  C   <answer>Option C</answer>                  H   \n",
      "\n",
      "                                      Raw_Response_y  Origin  \n",
      "0   To further investigate the cause of the ptosi...  ID0002  \n",
      "1   Toxoplasma gondii\\nTo clarify, the correct an...  ID0003  \n",
      "2   To further investigate the cause of the patie...  ID0007  \n",
      "3   To provide a detailed explanation for your an...  ID0009  \n",
      "4   To properly transport an amputated finger, it...  ID0010  \n"
     ]
    }
   ],
   "source": [
    "import pandas as pd\n",
    "\n",
    "# 1. Inspect dtypes and sample values\n",
    "print(\"df QA_ID dtype:\", df['QA_ID'].dtype)\n",
    "print(\"df2 QA_ID dtype:\", df2['QA_ID'].dtype)\n",
    "print(\"First 10 in df :\", df['QA_ID'].head(10).tolist())\n",
    "print(\"First 10 in df2:\", df2['QA_ID'].head(10).tolist())\n",
    "\n",
    "# 2. Use merge with an indicator to see which side is “losing” rows\n",
    "debug = pd.merge(df[['QA_ID']], df2[['QA_ID']], on='QA_ID', how='outer', indicator=True)\n",
    "print(debug['_merge'].value_counts())\n",
    "# This shows how many keys are only in df, only in df2, or matched.\n",
    "\n",
    "# 3. Normalize both QA_ID columns to strings and strip whitespace\n",
    "df['QA_ID']  = df['QA_ID'].astype(str).str.strip()\n",
    "df2['QA_ID'] = df2['QA_ID'].astype(str).str.strip()\n",
    "\n",
    "# 4. Retry the merge\n",
    "merged = pd.merge(df, df2, on='QA_ID', how='inner')\n",
    "print(\"Merged shape:\", merged.shape)\n",
    "print(merged.head())\n"
   ]
  },
  {
   "cell_type": "code",
   "execution_count": 3,
   "id": "1a0f996b-efa7-49ea-9f40-3fb03b93a0c9",
   "metadata": {},
   "outputs": [
    {
     "ename": "KeyError",
     "evalue": "'ROUND1'",
     "output_type": "error",
     "traceback": [
      "\u001b[0;31m---------------------------------------------------------------------------\u001b[0m",
      "\u001b[0;31mKeyError\u001b[0m                                  Traceback (most recent call last)",
      "File \u001b[0;32m~/.local/lib/python3.10/site-packages/pandas/core/indexes/base.py:3805\u001b[0m, in \u001b[0;36mIndex.get_loc\u001b[0;34m(self, key)\u001b[0m\n\u001b[1;32m   3804\u001b[0m \u001b[38;5;28;01mtry\u001b[39;00m:\n\u001b[0;32m-> 3805\u001b[0m     \u001b[38;5;28;01mreturn\u001b[39;00m \u001b[38;5;28;43mself\u001b[39;49m\u001b[38;5;241;43m.\u001b[39;49m\u001b[43m_engine\u001b[49m\u001b[38;5;241;43m.\u001b[39;49m\u001b[43mget_loc\u001b[49m\u001b[43m(\u001b[49m\u001b[43mcasted_key\u001b[49m\u001b[43m)\u001b[49m\n\u001b[1;32m   3806\u001b[0m \u001b[38;5;28;01mexcept\u001b[39;00m \u001b[38;5;167;01mKeyError\u001b[39;00m \u001b[38;5;28;01mas\u001b[39;00m err:\n",
      "File \u001b[0;32mindex.pyx:167\u001b[0m, in \u001b[0;36mpandas._libs.index.IndexEngine.get_loc\u001b[0;34m()\u001b[0m\n",
      "File \u001b[0;32mindex.pyx:196\u001b[0m, in \u001b[0;36mpandas._libs.index.IndexEngine.get_loc\u001b[0;34m()\u001b[0m\n",
      "File \u001b[0;32mpandas/_libs/hashtable_class_helper.pxi:7081\u001b[0m, in \u001b[0;36mpandas._libs.hashtable.PyObjectHashTable.get_item\u001b[0;34m()\u001b[0m\n",
      "File \u001b[0;32mpandas/_libs/hashtable_class_helper.pxi:7089\u001b[0m, in \u001b[0;36mpandas._libs.hashtable.PyObjectHashTable.get_item\u001b[0;34m()\u001b[0m\n",
      "\u001b[0;31mKeyError\u001b[0m: 'ROUND1'",
      "\nThe above exception was the direct cause of the following exception:\n",
      "\u001b[0;31mKeyError\u001b[0m                                  Traceback (most recent call last)",
      "Cell \u001b[0;32mIn[3], line 5\u001b[0m\n\u001b[1;32m      2\u001b[0m \u001b[38;5;28;01mfrom\u001b[39;00m \u001b[38;5;21;01mscipy\u001b[39;00m\u001b[38;5;21;01m.\u001b[39;00m\u001b[38;5;21;01mstats\u001b[39;00m \u001b[38;5;28;01mimport\u001b[39;00m ttest_rel\n\u001b[1;32m      4\u001b[0m \u001b[38;5;66;03m# 5. Perform the paired t-test\u001b[39;00m\n\u001b[0;32m----> 5\u001b[0m t_stat, p_value \u001b[38;5;241m=\u001b[39m ttest_rel(\u001b[43mmerged\u001b[49m\u001b[43m[\u001b[49m\u001b[38;5;124;43m'\u001b[39;49m\u001b[38;5;124;43mROUND1\u001b[39;49m\u001b[38;5;124;43m'\u001b[39;49m\u001b[43m]\u001b[49m, merged[\u001b[38;5;124m'\u001b[39m\u001b[38;5;124mROUND2\u001b[39m\u001b[38;5;124m'\u001b[39m])\n\u001b[1;32m      7\u001b[0m \u001b[38;5;28mprint\u001b[39m(\u001b[38;5;124mf\u001b[39m\u001b[38;5;124m\"\u001b[39m\u001b[38;5;124mPaired t-statistic: \u001b[39m\u001b[38;5;132;01m{\u001b[39;00mt_stat\u001b[38;5;132;01m:\u001b[39;00m\u001b[38;5;124m.3f\u001b[39m\u001b[38;5;132;01m}\u001b[39;00m\u001b[38;5;124m\"\u001b[39m)\n\u001b[1;32m      8\u001b[0m \u001b[38;5;28mprint\u001b[39m(\u001b[38;5;124mf\u001b[39m\u001b[38;5;124m\"\u001b[39m\u001b[38;5;124mP-value: \u001b[39m\u001b[38;5;132;01m{\u001b[39;00mp_value\u001b[38;5;132;01m:\u001b[39;00m\u001b[38;5;124m.3f\u001b[39m\u001b[38;5;132;01m}\u001b[39;00m\u001b[38;5;124m\"\u001b[39m)\n",
      "File \u001b[0;32m~/.local/lib/python3.10/site-packages/pandas/core/frame.py:4102\u001b[0m, in \u001b[0;36mDataFrame.__getitem__\u001b[0;34m(self, key)\u001b[0m\n\u001b[1;32m   4100\u001b[0m \u001b[38;5;28;01mif\u001b[39;00m \u001b[38;5;28mself\u001b[39m\u001b[38;5;241m.\u001b[39mcolumns\u001b[38;5;241m.\u001b[39mnlevels \u001b[38;5;241m>\u001b[39m \u001b[38;5;241m1\u001b[39m:\n\u001b[1;32m   4101\u001b[0m     \u001b[38;5;28;01mreturn\u001b[39;00m \u001b[38;5;28mself\u001b[39m\u001b[38;5;241m.\u001b[39m_getitem_multilevel(key)\n\u001b[0;32m-> 4102\u001b[0m indexer \u001b[38;5;241m=\u001b[39m \u001b[38;5;28;43mself\u001b[39;49m\u001b[38;5;241;43m.\u001b[39;49m\u001b[43mcolumns\u001b[49m\u001b[38;5;241;43m.\u001b[39;49m\u001b[43mget_loc\u001b[49m\u001b[43m(\u001b[49m\u001b[43mkey\u001b[49m\u001b[43m)\u001b[49m\n\u001b[1;32m   4103\u001b[0m \u001b[38;5;28;01mif\u001b[39;00m is_integer(indexer):\n\u001b[1;32m   4104\u001b[0m     indexer \u001b[38;5;241m=\u001b[39m [indexer]\n",
      "File \u001b[0;32m~/.local/lib/python3.10/site-packages/pandas/core/indexes/base.py:3812\u001b[0m, in \u001b[0;36mIndex.get_loc\u001b[0;34m(self, key)\u001b[0m\n\u001b[1;32m   3807\u001b[0m     \u001b[38;5;28;01mif\u001b[39;00m \u001b[38;5;28misinstance\u001b[39m(casted_key, \u001b[38;5;28mslice\u001b[39m) \u001b[38;5;129;01mor\u001b[39;00m (\n\u001b[1;32m   3808\u001b[0m         \u001b[38;5;28misinstance\u001b[39m(casted_key, abc\u001b[38;5;241m.\u001b[39mIterable)\n\u001b[1;32m   3809\u001b[0m         \u001b[38;5;129;01mand\u001b[39;00m \u001b[38;5;28many\u001b[39m(\u001b[38;5;28misinstance\u001b[39m(x, \u001b[38;5;28mslice\u001b[39m) \u001b[38;5;28;01mfor\u001b[39;00m x \u001b[38;5;129;01min\u001b[39;00m casted_key)\n\u001b[1;32m   3810\u001b[0m     ):\n\u001b[1;32m   3811\u001b[0m         \u001b[38;5;28;01mraise\u001b[39;00m InvalidIndexError(key)\n\u001b[0;32m-> 3812\u001b[0m     \u001b[38;5;28;01mraise\u001b[39;00m \u001b[38;5;167;01mKeyError\u001b[39;00m(key) \u001b[38;5;28;01mfrom\u001b[39;00m \u001b[38;5;21;01merr\u001b[39;00m\n\u001b[1;32m   3813\u001b[0m \u001b[38;5;28;01mexcept\u001b[39;00m \u001b[38;5;167;01mTypeError\u001b[39;00m:\n\u001b[1;32m   3814\u001b[0m     \u001b[38;5;66;03m# If we have a listlike key, _check_indexing_error will raise\u001b[39;00m\n\u001b[1;32m   3815\u001b[0m     \u001b[38;5;66;03m#  InvalidIndexError. Otherwise we fall through and re-raise\u001b[39;00m\n\u001b[1;32m   3816\u001b[0m     \u001b[38;5;66;03m#  the TypeError.\u001b[39;00m\n\u001b[1;32m   3817\u001b[0m     \u001b[38;5;28mself\u001b[39m\u001b[38;5;241m.\u001b[39m_check_indexing_error(key)\n",
      "\u001b[0;31mKeyError\u001b[0m: 'ROUND1'"
     ]
    }
   ],
   "source": [
    "import pandas as pd\n",
    "from scipy.stats import ttest_rel\n",
    "\n",
    "# 5. Perform the paired t-test\n",
    "t_stat, p_value = ttest_rel(merged['ROUND1'], merged['ROUND2'])\n",
    "\n",
    "print(f\"Paired t-statistic: {t_stat:.3f}\")\n",
    "print(f\"P-value: {p_value:.3f}\")\n"
   ]
  },
  {
   "cell_type": "code",
   "execution_count": 4,
   "id": "319d3e23-48fd-4554-8b73-8aa403712711",
   "metadata": {},
   "outputs": [
    {
     "data": {
      "text/html": [
       "<div>\n",
       "<style scoped>\n",
       "    .dataframe tbody tr th:only-of-type {\n",
       "        vertical-align: middle;\n",
       "    }\n",
       "\n",
       "    .dataframe tbody tr th {\n",
       "        vertical-align: top;\n",
       "    }\n",
       "\n",
       "    .dataframe thead th {\n",
       "        text-align: right;\n",
       "    }\n",
       "</style>\n",
       "<table border=\"1\" class=\"dataframe\">\n",
       "  <thead>\n",
       "    <tr style=\"text-align: right;\">\n",
       "      <th></th>\n",
       "      <th>QA_ID</th>\n",
       "      <th>Extracted_Answer</th>\n",
       "      <th>Raw_Response</th>\n",
       "    </tr>\n",
       "  </thead>\n",
       "  <tbody>\n",
       "    <tr>\n",
       "      <th>0</th>\n",
       "      <td>Merge Q1</td>\n",
       "      <td>D</td>\n",
       "      <td>&lt;answer&gt;Option D&lt;/answer&gt;</td>\n",
       "    </tr>\n",
       "    <tr>\n",
       "      <th>1</th>\n",
       "      <td>Merge Q2</td>\n",
       "      <td>C</td>\n",
       "      <td>&lt;answer&gt;Option C&lt;/answer&gt;</td>\n",
       "    </tr>\n",
       "    <tr>\n",
       "      <th>2</th>\n",
       "      <td>Merge Q3</td>\n",
       "      <td>D</td>\n",
       "      <td>&lt;answer&gt;Option D&lt;/answer&gt;</td>\n",
       "    </tr>\n",
       "    <tr>\n",
       "      <th>3</th>\n",
       "      <td>Merge Q4</td>\n",
       "      <td>D</td>\n",
       "      <td>&lt;answer&gt;Option D&lt;/answer&gt;</td>\n",
       "    </tr>\n",
       "    <tr>\n",
       "      <th>4</th>\n",
       "      <td>Merge Q5</td>\n",
       "      <td>C</td>\n",
       "      <td>&lt;answer&gt;Option C&lt;/answer&gt;</td>\n",
       "    </tr>\n",
       "    <tr>\n",
       "      <th>...</th>\n",
       "      <td>...</td>\n",
       "      <td>...</td>\n",
       "      <td>...</td>\n",
       "    </tr>\n",
       "    <tr>\n",
       "      <th>4049</th>\n",
       "      <td>Merge Q4050</td>\n",
       "      <td>A</td>\n",
       "      <td>&lt;answer&gt;Option A&lt;/answer&gt;</td>\n",
       "    </tr>\n",
       "    <tr>\n",
       "      <th>4050</th>\n",
       "      <td>Merge Q4051</td>\n",
       "      <td>C</td>\n",
       "      <td>&lt;answer&gt;Option C&lt;/answer&gt;</td>\n",
       "    </tr>\n",
       "    <tr>\n",
       "      <th>4051</th>\n",
       "      <td>Merge Q4052</td>\n",
       "      <td>D</td>\n",
       "      <td>&lt;answer&gt;Option D&lt;/answer&gt;</td>\n",
       "    </tr>\n",
       "    <tr>\n",
       "      <th>4052</th>\n",
       "      <td>Merge Q4053</td>\n",
       "      <td>D</td>\n",
       "      <td>&lt;answer&gt;Option D&lt;/answer&gt;</td>\n",
       "    </tr>\n",
       "    <tr>\n",
       "      <th>4053</th>\n",
       "      <td>Merge Q4054</td>\n",
       "      <td>B</td>\n",
       "      <td>&lt;answer&gt;Option B&lt;/answer&gt;</td>\n",
       "    </tr>\n",
       "  </tbody>\n",
       "</table>\n",
       "<p>4054 rows × 3 columns</p>\n",
       "</div>"
      ],
      "text/plain": [
       "            QA_ID Extracted_Answer                Raw_Response\n",
       "0        Merge Q1                D   <answer>Option D</answer>\n",
       "1        Merge Q2                C   <answer>Option C</answer>\n",
       "2        Merge Q3                D   <answer>Option D</answer>\n",
       "3        Merge Q4                D   <answer>Option D</answer>\n",
       "4        Merge Q5                C   <answer>Option C</answer>\n",
       "...           ...              ...                         ...\n",
       "4049  Merge Q4050                A   <answer>Option A</answer>\n",
       "4050  Merge Q4051                C   <answer>Option C</answer>\n",
       "4051  Merge Q4052                D   <answer>Option D</answer>\n",
       "4052  Merge Q4053                D   <answer>Option D</answer>\n",
       "4053  Merge Q4054                B   <answer>Option B</answer>\n",
       "\n",
       "[4054 rows x 3 columns]"
      ]
     },
     "execution_count": 4,
     "metadata": {},
     "output_type": "execute_result"
    }
   ],
   "source": [
    "df"
   ]
  },
  {
   "cell_type": "code",
   "execution_count": 12,
   "id": "a3995b6e-4a5c-48f2-890a-ce3da03eae67",
   "metadata": {},
   "outputs": [
    {
     "name": "stdout",
     "output_type": "stream",
     "text": [
      "Merged rows: 0\n",
      "Difference std: nan\n",
      "Empty DataFrame\n",
      "Columns: [QA_ID, ROUND1, ROUND2]\n",
      "Index: []\n"
     ]
    }
   ],
   "source": [
    "# How many paired observations survived?\n",
    "print(\"Merged rows:\", merged.shape[0])\n",
    "\n",
    "# Is there any variance in the differences?\n",
    "diff = merged['ROUND1'] - merged['ROUND2']\n",
    "print(\"Difference std:\", diff.std())\n",
    "\n",
    "# Show a few rows\n",
    "print(merged.head())\n"
   ]
  }
 ],
 "metadata": {
  "kernelspec": {
   "display_name": "Python 3",
   "language": "python",
   "name": "python3"
  },
  "language_info": {
   "codemirror_mode": {
    "name": "ipython",
    "version": 3
   },
   "file_extension": ".py",
   "mimetype": "text/x-python",
   "name": "python",
   "nbconvert_exporter": "python",
   "pygments_lexer": "ipython3",
   "version": "3.10.12"
  }
 },
 "nbformat": 4,
 "nbformat_minor": 5
}
