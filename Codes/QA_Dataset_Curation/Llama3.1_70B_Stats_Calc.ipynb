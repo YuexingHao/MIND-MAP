{
 "cells": [
  {
   "cell_type": "code",
   "execution_count": 5,
   "id": "6ab010b4",
   "metadata": {},
   "outputs": [
    {
     "name": "stdout",
     "output_type": "stream",
     "text": [
      "Correct Predictions: 1218\n",
      "Total Evaluated: 4054\n",
      "Accuracy: 30.04%\n",
      "Standard Deviation (Overall): 0.4585\n",
      "\n",
      "Accuracy and Std Dev by Data Source:\n",
      "  data_source  accuracy   std_dev\n",
      "0        jama  0.480658  0.499868\n",
      "1  medbullets  0.486577  0.500661\n",
      "2    medxpert  0.148571  0.355738\n",
      "3        mmlu  0.779412  0.415408\n"
     ]
    }
   ],
   "source": [
    "import pandas as pd\n",
    "import numpy as np\n",
    "\n",
    "# Step 1: Load both files\n",
    "df = pd.read_csv(\"llama70b_answers_summary.csv\")           # predictions\n",
    "truth_df = pd.read_csv(\"merged_llm_4k_questions.csv\")       # ground truth\n",
    "\n",
    "# Step 2: Create artificial QA_ID for row alignment\n",
    "truth_df = truth_df.reset_index()\n",
    "truth_df[\"QA_ID\"] = \"Merge Q\" + (truth_df[\"index\"] + 1).astype(str)\n",
    "\n",
    "# Step 3: Standardize formats\n",
    "df[\"Extracted_Answer\"] = df[\"Extracted_Answer\"].astype(str).str.strip().str.upper()\n",
    "truth_df[\"answer_idx\"] = truth_df[\"answer\"].astype(str).str.strip().str.upper()\n",
    "\n",
    "# Step 4: Merge using QA_ID\n",
    "merged = pd.merge(df, truth_df[[\"QA_ID\", \"answer_idx\", \"data_source\"]], on=\"QA_ID\", how=\"inner\")\n",
    "\n",
    "# Step 5: Compute match (boolean)\n",
    "merged[\"match\"] = merged[\"Extracted_Answer\"] == merged[\"answer_idx\"]\n",
    "\n",
    "# Step 6: Overall statistics\n",
    "correct_count = merged[\"match\"].sum()\n",
    "total_count = merged[\"match\"].notna().sum()\n",
    "accuracy = correct_count / total_count if total_count > 0 else 0\n",
    "std_dev = merged[\"match\"].std(ddof=1)  # sample standard deviation\n",
    "\n",
    "print(f\"Correct Predictions: {correct_count}\")\n",
    "print(f\"Total Evaluated: {total_count}\")\n",
    "print(f\"Accuracy: {accuracy:.2%}\")\n",
    "print(f\"Standard Deviation (Overall): {std_dev:.4f}\")\n",
    "\n",
    "# Step 7: Per-data source statistics\n",
    "grouped = (\n",
    "    merged.groupby(\"data_source\")[\"match\"]\n",
    "    .agg(accuracy=\"mean\", std_dev=lambda x: x.std(ddof=1))\n",
    "    .reset_index()\n",
    ")\n",
    "\n",
    "# Step 8: Display per-source results\n",
    "print(\"\\nAccuracy and Std Dev by Data Source:\")\n",
    "print(grouped)\n"
   ]
  },
  {
   "cell_type": "code",
   "execution_count": null,
   "id": "618dedb6",
   "metadata": {},
   "outputs": [],
   "source": []
  }
 ],
 "metadata": {
  "kernelspec": {
   "display_name": "Python (hf_env)",
   "language": "python",
   "name": "hf_env"
  },
  "language_info": {
   "codemirror_mode": {
    "name": "ipython",
    "version": 3
   },
   "file_extension": ".py",
   "mimetype": "text/x-python",
   "name": "python",
   "nbconvert_exporter": "python",
   "pygments_lexer": "ipython3",
   "version": "3.9.7"
  }
 },
 "nbformat": 4,
 "nbformat_minor": 5
}
